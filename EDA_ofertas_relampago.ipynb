{
 "cells": [
  {
   "cell_type": "code",
   "execution_count": 1,
   "metadata": {},
   "outputs": [],
   "source": [
    "import warnings\n",
    "warnings.filterwarnings(\"ignore\", category=DeprecationWarning) \n",
    "warnings.filterwarnings(\"ignore\", category=FutureWarning) \n",
    "\n",
    "# -- -- -- -- -- -- -- -- -- -- -- -- -- -- -- -- -- -- -- -- -- -- -- -- \n",
    "\n",
    "import pandas as pd\n",
    "import numpy as np\n",
    "#import datetime as dt\n",
    "import matplotlib.pyplot as plt\n",
    "import seaborn as sns\n",
    "\n",
    "# -- -- -- -- -- -- -- -- -- -- -- -- -- -- -- -- -- -- -- -- -- -- -- -- \n",
    "pd.set_option(\"display.max_rows\", 100)\n",
    "pd.set_option(\"display.expand_frame_repr\", True)\n",
    "pd.set_option('display.width', 1000)\n",
    "pd.set_option(\"display.max_colwidth\", 100)"
   ]
  },
  {
   "cell_type": "code",
   "execution_count": 2,
   "metadata": {},
   "outputs": [],
   "source": [
    "# USER DEFINED FUNCTIONS\n",
    "\n",
    "## Function to print a header for cell outputs\n",
    "def print_header(analysis, len_header=100):\n",
    "    return print('\\n'+'-'*int((len_header-len(analysis))/2),analysis,'-'*(int((len_header-len(analysis))/2)-1))\n",
    "\n"
   ]
  },
  {
   "cell_type": "markdown",
   "metadata": {},
   "source": [
    "# WELCOMING THE DATA"
   ]
  },
  {
   "cell_type": "markdown",
   "metadata": {},
   "source": [
    "## Importing the dataset (ofertas_relampago.csv)"
   ]
  },
  {
   "cell_type": "code",
   "execution_count": 3,
   "metadata": {},
   "outputs": [
    {
     "data": {
      "text/html": [
       "<div>\n",
       "<style scoped>\n",
       "    .dataframe tbody tr th:only-of-type {\n",
       "        vertical-align: middle;\n",
       "    }\n",
       "\n",
       "    .dataframe tbody tr th {\n",
       "        vertical-align: top;\n",
       "    }\n",
       "\n",
       "    .dataframe thead th {\n",
       "        text-align: right;\n",
       "    }\n",
       "</style>\n",
       "<table border=\"1\" class=\"dataframe\">\n",
       "  <thead>\n",
       "    <tr style=\"text-align: right;\">\n",
       "      <th></th>\n",
       "      <th>OFFER_START_DATE</th>\n",
       "      <th>OFFER_START_DTTM</th>\n",
       "      <th>OFFER_FINISH_DTTM</th>\n",
       "      <th>OFFER_TYPE</th>\n",
       "      <th>INVOLVED_STOCK</th>\n",
       "      <th>REMAINING_STOCK_AFTER_END</th>\n",
       "      <th>SOLD_AMOUNT</th>\n",
       "      <th>SOLD_QUANTITY</th>\n",
       "      <th>ORIGIN</th>\n",
       "      <th>SHIPPING_PAYMENT_TYPE</th>\n",
       "      <th>DOM_DOMAIN_AGG1</th>\n",
       "      <th>VERTICAL</th>\n",
       "      <th>DOMAIN_ID</th>\n",
       "    </tr>\n",
       "  </thead>\n",
       "  <tbody>\n",
       "    <tr>\n",
       "      <th>0</th>\n",
       "      <td>2021-06-22</td>\n",
       "      <td>2021-06-22 16:00:00+00:00</td>\n",
       "      <td>2021-06-22 23:02:43+00:00</td>\n",
       "      <td>lightning_deal</td>\n",
       "      <td>4</td>\n",
       "      <td>-2</td>\n",
       "      <td>4.72</td>\n",
       "      <td>6.0</td>\n",
       "      <td>A</td>\n",
       "      <td>none</td>\n",
       "      <td>PETS FOOD</td>\n",
       "      <td>CPG</td>\n",
       "      <td>MLM-BIRD_FOODS</td>\n",
       "    </tr>\n",
       "    <tr>\n",
       "      <th>1</th>\n",
       "      <td>2021-06-22</td>\n",
       "      <td>2021-06-22 13:00:00+00:00</td>\n",
       "      <td>2021-06-22 19:00:02+00:00</td>\n",
       "      <td>lightning_deal</td>\n",
       "      <td>5</td>\n",
       "      <td>5</td>\n",
       "      <td>NaN</td>\n",
       "      <td>NaN</td>\n",
       "      <td>NaN</td>\n",
       "      <td>free_shipping</td>\n",
       "      <td>PET PRODUCTS</td>\n",
       "      <td>OTHERS</td>\n",
       "      <td>MLM-ANIMAL_AND_PET_PRODUCTS</td>\n",
       "    </tr>\n",
       "    <tr>\n",
       "      <th>2</th>\n",
       "      <td>2021-06-22</td>\n",
       "      <td>2021-06-22 07:00:00+00:00</td>\n",
       "      <td>2021-06-22 13:00:01+00:00</td>\n",
       "      <td>lightning_deal</td>\n",
       "      <td>15</td>\n",
       "      <td>12</td>\n",
       "      <td>10.73</td>\n",
       "      <td>3.0</td>\n",
       "      <td>NaN</td>\n",
       "      <td>none</td>\n",
       "      <td>COMPUTERS</td>\n",
       "      <td>CE</td>\n",
       "      <td>MLM-SPEAKERS</td>\n",
       "    </tr>\n",
       "    <tr>\n",
       "      <th>3</th>\n",
       "      <td>2021-06-22</td>\n",
       "      <td>2021-06-22 19:00:00+00:00</td>\n",
       "      <td>2021-06-23 01:36:12+00:00</td>\n",
       "      <td>lightning_deal</td>\n",
       "      <td>15</td>\n",
       "      <td>13</td>\n",
       "      <td>7.03</td>\n",
       "      <td>2.0</td>\n",
       "      <td>NaN</td>\n",
       "      <td>none</td>\n",
       "      <td>COMPUTERS</td>\n",
       "      <td>CE</td>\n",
       "      <td>MLM-HEADPHONES</td>\n",
       "    </tr>\n",
       "    <tr>\n",
       "      <th>4</th>\n",
       "      <td>2021-06-22</td>\n",
       "      <td>2021-06-22 13:00:00+00:00</td>\n",
       "      <td>2021-06-22 15:48:12+00:00</td>\n",
       "      <td>lightning_deal</td>\n",
       "      <td>15</td>\n",
       "      <td>0</td>\n",
       "      <td>39.65</td>\n",
       "      <td>15.0</td>\n",
       "      <td>NaN</td>\n",
       "      <td>none</td>\n",
       "      <td>COMPUTERS</td>\n",
       "      <td>CE</td>\n",
       "      <td>MLM-HEADPHONES</td>\n",
       "    </tr>\n",
       "  </tbody>\n",
       "</table>\n",
       "</div>"
      ],
      "text/plain": [
       "  OFFER_START_DATE           OFFER_START_DTTM          OFFER_FINISH_DTTM      OFFER_TYPE  INVOLVED_STOCK  REMAINING_STOCK_AFTER_END  SOLD_AMOUNT  SOLD_QUANTITY ORIGIN SHIPPING_PAYMENT_TYPE DOM_DOMAIN_AGG1 VERTICAL                    DOMAIN_ID\n",
       "0       2021-06-22  2021-06-22 16:00:00+00:00  2021-06-22 23:02:43+00:00  lightning_deal               4                         -2         4.72            6.0      A                  none       PETS FOOD      CPG               MLM-BIRD_FOODS\n",
       "1       2021-06-22  2021-06-22 13:00:00+00:00  2021-06-22 19:00:02+00:00  lightning_deal               5                          5          NaN            NaN    NaN         free_shipping    PET PRODUCTS   OTHERS  MLM-ANIMAL_AND_PET_PRODUCTS\n",
       "2       2021-06-22  2021-06-22 07:00:00+00:00  2021-06-22 13:00:01+00:00  lightning_deal              15                         12        10.73            3.0    NaN                  none       COMPUTERS       CE                 MLM-SPEAKERS\n",
       "3       2021-06-22  2021-06-22 19:00:00+00:00  2021-06-23 01:36:12+00:00  lightning_deal              15                         13         7.03            2.0    NaN                  none       COMPUTERS       CE               MLM-HEADPHONES\n",
       "4       2021-06-22  2021-06-22 13:00:00+00:00  2021-06-22 15:48:12+00:00  lightning_deal              15                          0        39.65           15.0    NaN                  none       COMPUTERS       CE               MLM-HEADPHONES"
      ]
     },
     "execution_count": 3,
     "metadata": {},
     "output_type": "execute_result"
    }
   ],
   "source": [
    "# Let's store a original version of the dataset\n",
    "df_orig = pd.read_csv('ofertas_relampago.csv')\n",
    "\n",
    "df = df_orig.copy()\n",
    "original_cols = df.columns.to_list()\n",
    "df.head()"
   ]
  },
  {
   "cell_type": "markdown",
   "metadata": {},
   "source": [
    "## Data Types (dtypes)"
   ]
  },
  {
   "cell_type": "code",
   "execution_count": 4,
   "metadata": {},
   "outputs": [
    {
     "name": "stdout",
     "output_type": "stream",
     "text": [
      "The dataframe contains 48746 rows (observations) and 13 columns (attributes) \n",
      "\n",
      "\n",
      "------------------------------------ COLUMNS AND THEIR DATATYPES -----------------------------------\n",
      "OFFER_START_DATE              object\n",
      "OFFER_START_DTTM              object\n",
      "OFFER_FINISH_DTTM             object\n",
      "OFFER_TYPE                    object\n",
      "INVOLVED_STOCK                 int64\n",
      "REMAINING_STOCK_AFTER_END      int64\n",
      "SOLD_AMOUNT                  float64\n",
      "SOLD_QUANTITY                float64\n",
      "ORIGIN                        object\n",
      "SHIPPING_PAYMENT_TYPE         object\n",
      "DOM_DOMAIN_AGG1               object\n",
      "VERTICAL                      object\n",
      "DOMAIN_ID                     object\n",
      "dtype: object\n",
      "----------------------------------------------------------------------------------------------------\n"
     ]
    }
   ],
   "source": [
    "print(f'The dataframe contains {df.shape[0]} rows (observations) and {df.shape[1]} columns (attributes) \\n')\n",
    "print_header('COLUMNS AND THEIR DATATYPES')\n",
    "print(df.dtypes)\n",
    "print('-'*100)\n",
    "#print('DESCRIPTION OF THE NUMERICAL DATA:')\n",
    "#df.describe()"
   ]
  },
  {
   "cell_type": "code",
   "execution_count": 5,
   "metadata": {},
   "outputs": [
    {
     "name": "stdout",
     "output_type": "stream",
     "text": [
      "\n",
      "----------------------------------------- NUMERIC COLUMNS: 4 ----------------------------------------\n",
      "- INVOLVED_STOCK: int64\n",
      "- REMAINING_STOCK_AFTER_END: int64\n",
      "- SOLD_AMOUNT: float64\n",
      "- SOLD_QUANTITY: float64\n",
      "(num_cols list created with all numeric type columns' names)\n",
      "\n",
      "----------------------------------------- STRING COLUMNS: 9 ----------------------------------------\n",
      "- OFFER_START_DATE: object\n",
      "- OFFER_START_DTTM: object\n",
      "- OFFER_FINISH_DTTM: object\n",
      "- OFFER_TYPE: object\n",
      "- ORIGIN: object\n",
      "- SHIPPING_PAYMENT_TYPE: object\n",
      "- DOM_DOMAIN_AGG1: object\n",
      "- VERTICAL: object\n",
      "- DOMAIN_ID: object\n",
      "(str_cols list created with all string/object type columns' names)\n",
      "\n",
      "---------------------------------------- DATETIME COLUMNS: 0 ---------------------------------------\n",
      "- (No datetime columns)\n",
      "\n",
      "----------------------------------------- BOOLEAN COLUMNS: 0 ----------------------------------------\n",
      "- (No boolean columns)\n",
      "----------------------------------------------------------------------------------------------------\n"
     ]
    }
   ],
   "source": [
    "num_cols = df.select_dtypes(include='number').columns.tolist()\n",
    "str_cols = df.select_dtypes(include='object').columns.tolist()\n",
    "bool_cols = df.select_dtypes(include='bool').columns.tolist()\n",
    "dt_cols = df.select_dtypes(include='datetimetz').columns.tolist()\n",
    "\n",
    "# -- --  -- --  -- --  -- --  -- --  -- --  -- --  -- --  -- --  -- --  -- --  -- --  -- -- \n",
    "print_header(f'NUMERIC COLUMNS: {len(num_cols)}')\n",
    "if len(num_cols) > 0:\n",
    "    for col in num_cols:\n",
    "        print(f'- {col}: {df[col].dtype}')\n",
    "    print('(num_cols list created with all numeric type columns\\' names)')\n",
    "else:\n",
    "    print('- (No numeric columns)')\n",
    "\n",
    "# -- --  -- --  -- --  -- --  -- --  -- --  -- --  -- --  -- --  -- --  -- --  -- --  -- -- \n",
    "\n",
    "print_header(f'STRING COLUMNS: {len(str_cols)}')\n",
    "if len(str_cols) > 0:\n",
    "    for col in str_cols:\n",
    "        print(f'- {col}: {df[col].dtype}')\n",
    "    print('(str_cols list created with all string/object type columns\\' names)')\n",
    "else:\n",
    "    print('- (No string columns)')\n",
    "\n",
    "# -- --  -- --  -- --  -- --  -- --  -- --  -- --  -- --  -- --  -- --  -- --  -- --  -- -- \n",
    "\n",
    "print_header(f'DATETIME COLUMNS: {len(dt_cols)}')\n",
    "if len(dt_cols) > 0:\n",
    "    for col in dt_cols:\n",
    "        print(f'- {col}: {df[col].dtype}')\n",
    "    print('(dt_cols list created with all datetime type columns\\' names)')\n",
    "else:\n",
    "    print('- (No datetime columns)')\n",
    "\n",
    "# -- --  -- --  -- --  -- --  -- --  -- --  -- --  -- --  -- --  -- --  -- --  -- --  -- -- \n",
    "\n",
    "print_header(f'BOOLEAN COLUMNS: {len(bool_cols)}')\n",
    "if len(bool_cols) > 0:\n",
    "    for col in bool_cols:\n",
    "        print(f'- {col}: {df[col].dtype}')\n",
    "    print('(bool_cols list created with all boolean type columns\\' names)')\n",
    "else:\n",
    "    print('- (No boolean columns)')\n",
    "\n",
    "print('-'*100) \n",
    "# -- --  -- --  -- --  -- --  -- --  -- --  -- --  -- --  -- --  -- --  -- --  -- --  -- -- "
   ]
  },
  {
   "cell_type": "markdown",
   "metadata": {},
   "source": [
    "## Data Quality & Missing Values"
   ]
  },
  {
   "cell_type": "code",
   "execution_count": 6,
   "metadata": {},
   "outputs": [
    {
     "name": "stdout",
     "output_type": "stream",
     "text": [
      "\n",
      "----------------------------------- NUMERIC VARIABLES DESCRIPTION ----------------------------------\n",
      "       INVOLVED_STOCK  REMAINING_STOCK_AFTER_END   SOLD_AMOUNT  SOLD_QUANTITY\n",
      "count    48746.000000               48746.000000  24579.000000   24579.000000\n",
      "mean        35.007508                  30.565216     51.208898      10.851052\n",
      "std        206.761058                 195.813806    175.254414      45.475305\n",
      "min          1.000000                -192.000000      0.280000       1.000000\n",
      "25%          5.000000                   4.000000      5.730000       1.000000\n",
      "50%         10.000000                   8.000000     12.420000       3.000000\n",
      "75%         15.000000                  15.000000     30.925000       6.000000\n",
      "max       9000.000000                8635.000000   4836.570000    1646.000000\n",
      "total number of rows: 48,746\n",
      "\n",
      "-------------------------------------------- NULL VALUES -------------------------------------------\n",
      "                     col_name  null_rows null_rows_pct\n",
      "0            OFFER_START_DATE          0          0.0%\n",
      "1            OFFER_START_DTTM          0          0.0%\n",
      "2           OFFER_FINISH_DTTM          0          0.0%\n",
      "3                  OFFER_TYPE          0          0.0%\n",
      "4              INVOLVED_STOCK          0          0.0%\n",
      "5   REMAINING_STOCK_AFTER_END          0          0.0%\n",
      "6                 SOLD_AMOUNT      24167         49.6%\n",
      "7               SOLD_QUANTITY      24167         49.6%\n",
      "8                      ORIGIN      37430         76.8%\n",
      "9       SHIPPING_PAYMENT_TYPE          0          0.0%\n",
      "10            DOM_DOMAIN_AGG1          0          0.0%\n",
      "11                   VERTICAL          0          0.0%\n",
      "12                  DOMAIN_ID          0          0.0%\n"
     ]
    }
   ],
   "source": [
    "# DESCRIBING NUMERIC DATA\n",
    "print_header('NUMERIC VARIABLES DESCRIPTION')\n",
    "print(df.describe())\n",
    "\n",
    "\n",
    "# MISSING DATA\n",
    "print(f'total number of rows: {len(df):,}')\n",
    "df_null_analysis = pd.DataFrame(df.isnull().sum()).reset_index().rename(columns={'index':'col_name', 0:'null_rows'})\n",
    "df_null_analysis['null_rows_pct'] = (df_null_analysis['null_rows']/len(df)*100).round(1).astype(str)+'%'\n",
    "\n",
    "print_header('NULL VALUES')\n",
    "print(df_null_analysis)"
   ]
  },
  {
   "cell_type": "markdown",
   "metadata": {},
   "source": [
    "#### What can we extract from this summary?\n",
    "\n",
    "**DTYPES**\n",
    "- When importing the data, we can see that there are string columns that need to be converted to datetime format for further comparison and feature engineering.\n",
    "- This variables are: `OFFER_START_DATE`, `OFFER_START_DTTM`, and `OFFER_FINISH_DTTM`\n",
    "\n",
    "**DATA QUALITY**\n",
    "- `INVOLVE_STOCK` seems to make logical sense, that is, it represents the number of available stock for an offer and it has a minimum value of 1 (there is no offer without stock).\n",
    "- `REMAINING_STOCK_AFTER_END` which is the result of `INVOLVED_STOCK - SOLD_QUANTITY`, has a minimum value of `-192`, which I believe needs to be fixed. Sales should not exceed the stock available.\n",
    "- `SOLD_QUANTITY`, as mentioned in the previous point, is used to calculate `REMAINING_STOCK_AFTER_END`, and in some cases `SOLD_QUANTITY > INVOLVE_STOCK`. We will fix it and use it to calculate a new `REMAINING_STOCK_AFTER_END`.\n",
    "- `SOLD_AMOUNT`, which is a monetary representation of the sales, will need to be fixed as well once we have the fixed `SOLD_QUANTITY` and calculated unit price: `(SOLD_AMOUNT/SOLD_QUANTITY) * fixed_SOLD_QUANTITY`\n",
    "\n",
    "**NULL VALUES**\n",
    "- We have in this dataframe 3 columns with missing values.\n",
    "- `SOLD_AMOUNT` and `SOLD_QUANTITY` missing values imply no sales at all for that observation. We will fill those missing values with the int `0` (zero).\n",
    "- `ORIGIN` is a string variable that has close to 77% of the observations with missing values, and the rest with a the same value of `'A'`. We will analyse if there is any particularity for `'A'` observations, otherwise we will drop the column.\n",
    "\n",
    "With that being said, we can start cleaning the data."
   ]
  },
  {
   "cell_type": "markdown",
   "metadata": {},
   "source": [
    "## CLEANING THE DATA"
   ]
  },
  {
   "cell_type": "markdown",
   "metadata": {},
   "source": [
    "### DATA TYPES\n",
    "\n",
    "As was mentioned before, we can see that there are some date and datetime columns that are currently in string (object) type.\n",
    "\n",
    "To be able to make date and time comparissons we will need to convert them to datetime type.\n",
    "- `OFFER_START_DATE` converted will be called `OFFER_START_DATE_dt`\n",
    "- `OFFER_START_DTTM` converted will be called `OFFER_START_DTTM_dt`\n",
    "- `OFFER_FINISH_DTTM` converted will be called `OFFER_FINISH_DTTM_dt`"
   ]
  },
  {
   "cell_type": "code",
   "execution_count": 7,
   "metadata": {},
   "outputs": [
    {
     "name": "stdout",
     "output_type": "stream",
     "text": [
      "\n",
      "------------------------------------ OFFER_START_DATE description -----------------------------------\n",
      "                 OFFER_START_DATE_dt\n",
      "count                          48746\n",
      "mean   2021-07-05 11:24:49.008328704\n",
      "min              2021-06-01 00:00:00\n",
      "25%              2021-06-22 00:00:00\n",
      "50%              2021-07-07 00:00:00\n",
      "75%              2021-07-21 00:00:00\n",
      "max              2021-07-31 00:00:00\n",
      "\n",
      "----------------------------------------- dtypes VALIDATION ----------------------------------------\n",
      "OFFER_START_DATE                     object\n",
      "OFFER_START_DATE_dt          datetime64[ns]\n",
      "OFFER_START_DTTM                     object\n",
      "OFFER_START_DTTM_dt     datetime64[ns, UTC]\n",
      "OFFER_FINISH_DTTM                    object\n",
      "OFFER_FINISH_DTTM_dt    datetime64[ns, UTC]\n",
      "dtype: object\n",
      "\n",
      "----------------------------------------- CONTENT VALIDATION ----------------------------------------\n"
     ]
    },
    {
     "data": {
      "text/html": [
       "<div>\n",
       "<style scoped>\n",
       "    .dataframe tbody tr th:only-of-type {\n",
       "        vertical-align: middle;\n",
       "    }\n",
       "\n",
       "    .dataframe tbody tr th {\n",
       "        vertical-align: top;\n",
       "    }\n",
       "\n",
       "    .dataframe thead th {\n",
       "        text-align: right;\n",
       "    }\n",
       "</style>\n",
       "<table border=\"1\" class=\"dataframe\">\n",
       "  <thead>\n",
       "    <tr style=\"text-align: right;\">\n",
       "      <th></th>\n",
       "      <th>OFFER_START_DATE</th>\n",
       "      <th>OFFER_START_DATE_dt</th>\n",
       "      <th>OFFER_START_DTTM</th>\n",
       "      <th>OFFER_START_DTTM_dt</th>\n",
       "      <th>OFFER_FINISH_DTTM</th>\n",
       "      <th>OFFER_FINISH_DTTM_dt</th>\n",
       "    </tr>\n",
       "  </thead>\n",
       "  <tbody>\n",
       "    <tr>\n",
       "      <th>0</th>\n",
       "      <td>2021-06-22</td>\n",
       "      <td>2021-06-22</td>\n",
       "      <td>2021-06-22 16:00:00+00:00</td>\n",
       "      <td>2021-06-22 16:00:00+00:00</td>\n",
       "      <td>2021-06-22 23:02:43+00:00</td>\n",
       "      <td>2021-06-22 23:02:43+00:00</td>\n",
       "    </tr>\n",
       "    <tr>\n",
       "      <th>1</th>\n",
       "      <td>2021-06-22</td>\n",
       "      <td>2021-06-22</td>\n",
       "      <td>2021-06-22 13:00:00+00:00</td>\n",
       "      <td>2021-06-22 13:00:00+00:00</td>\n",
       "      <td>2021-06-22 19:00:02+00:00</td>\n",
       "      <td>2021-06-22 19:00:02+00:00</td>\n",
       "    </tr>\n",
       "  </tbody>\n",
       "</table>\n",
       "</div>"
      ],
      "text/plain": [
       "  OFFER_START_DATE OFFER_START_DATE_dt           OFFER_START_DTTM       OFFER_START_DTTM_dt          OFFER_FINISH_DTTM      OFFER_FINISH_DTTM_dt\n",
       "0       2021-06-22          2021-06-22  2021-06-22 16:00:00+00:00 2021-06-22 16:00:00+00:00  2021-06-22 23:02:43+00:00 2021-06-22 23:02:43+00:00\n",
       "1       2021-06-22          2021-06-22  2021-06-22 13:00:00+00:00 2021-06-22 13:00:00+00:00  2021-06-22 19:00:02+00:00 2021-06-22 19:00:02+00:00"
      ]
     },
     "execution_count": 7,
     "metadata": {},
     "output_type": "execute_result"
    }
   ],
   "source": [
    "df['OFFER_START_DATE_dt'] = pd.to_datetime(df['OFFER_START_DATE'])\n",
    "df['OFFER_FINISH_DTTM_dt'] = pd.to_datetime(df['OFFER_FINISH_DTTM'])\n",
    "df['OFFER_START_DTTM_dt'] = pd.to_datetime(df['OFFER_START_DTTM'])\n",
    "\n",
    "cols_df = ['OFFER_START_DATE', 'OFFER_START_DATE_dt',\n",
    "           'OFFER_START_DTTM', 'OFFER_START_DTTM_dt',\n",
    "           'OFFER_FINISH_DTTM', 'OFFER_FINISH_DTTM_dt'\n",
    "           ]\n",
    "\n",
    "# - - - - - - - - - - - - - - - - - - - - - - - - - - - - - - - - - - - - - - - - - - - - - - - - - - - - - - - - - - - - - - - - \n",
    "print_header('OFFER_START_DATE description')\n",
    "print(df[cols_df].describe())\n",
    "\n",
    "# - - - - - - - - - - - - - - - - - - - - - - - - - - - - - - - - - - - - - - - - - - - - - - - - - - - - - - - - - - - - - - - - \n",
    "print_header('dtypes VALIDATION')\n",
    "\n",
    "print(\n",
    "    df[['OFFER_START_DATE', 'OFFER_START_DATE_dt',\n",
    "        'OFFER_START_DTTM', 'OFFER_START_DTTM_dt',\n",
    "        'OFFER_FINISH_DTTM', 'OFFER_FINISH_DTTM_dt'\n",
    "        ]].dtypes\n",
    ")\n",
    "\n",
    "# - - - - - - - - - - - - - - - - - - - - - - - - - - - - - - - - - - - - - - - - - - - - - - - - - - - - - - - - - - - - - - - - \n",
    "print_header('CONTENT VALIDATION')\n",
    "df[cols_df].head(2)"
   ]
  },
  {
   "cell_type": "markdown",
   "metadata": {},
   "source": [
    "#### DATA QUALITY\n",
    "Fixing `SOLD_QUANTITY` and `SOLD_AMOUNT`"
   ]
  },
  {
   "cell_type": "code",
   "execution_count": 8,
   "metadata": {},
   "outputs": [
    {
     "name": "stdout",
     "output_type": "stream",
     "text": [
      "\n",
      "------------------------------------ VALIDATION: Fixed variables -----------------------------------\n"
     ]
    },
    {
     "data": {
      "text/html": [
       "<div>\n",
       "<style scoped>\n",
       "    .dataframe tbody tr th:only-of-type {\n",
       "        vertical-align: middle;\n",
       "    }\n",
       "\n",
       "    .dataframe tbody tr th {\n",
       "        vertical-align: top;\n",
       "    }\n",
       "\n",
       "    .dataframe thead th {\n",
       "        text-align: right;\n",
       "    }\n",
       "</style>\n",
       "<table border=\"1\" class=\"dataframe\">\n",
       "  <thead>\n",
       "    <tr style=\"text-align: right;\">\n",
       "      <th></th>\n",
       "      <th>INVOLVED_STOCK</th>\n",
       "      <th>SOLD_QUANTITY</th>\n",
       "      <th>sold_quantity_fixed</th>\n",
       "      <th>SOLD_AMOUNT</th>\n",
       "      <th>sold_amount_fixed</th>\n",
       "      <th>REMAINING_STOCK_AFTER_END</th>\n",
       "      <th>remaining_stock_after_end_fixed</th>\n",
       "      <th>unit_price</th>\n",
       "    </tr>\n",
       "  </thead>\n",
       "  <tbody>\n",
       "    <tr>\n",
       "      <th>0</th>\n",
       "      <td>4</td>\n",
       "      <td>6.0</td>\n",
       "      <td>4</td>\n",
       "      <td>4.72</td>\n",
       "      <td>3.146667</td>\n",
       "      <td>-2</td>\n",
       "      <td>0</td>\n",
       "      <td>0.786667</td>\n",
       "    </tr>\n",
       "    <tr>\n",
       "      <th>1</th>\n",
       "      <td>5</td>\n",
       "      <td>0.0</td>\n",
       "      <td>0</td>\n",
       "      <td>0.00</td>\n",
       "      <td>0.000000</td>\n",
       "      <td>5</td>\n",
       "      <td>5</td>\n",
       "      <td>0.000000</td>\n",
       "    </tr>\n",
       "    <tr>\n",
       "      <th>2</th>\n",
       "      <td>15</td>\n",
       "      <td>3.0</td>\n",
       "      <td>3</td>\n",
       "      <td>10.73</td>\n",
       "      <td>10.730000</td>\n",
       "      <td>12</td>\n",
       "      <td>12</td>\n",
       "      <td>3.576667</td>\n",
       "    </tr>\n",
       "    <tr>\n",
       "      <th>3</th>\n",
       "      <td>15</td>\n",
       "      <td>2.0</td>\n",
       "      <td>2</td>\n",
       "      <td>7.03</td>\n",
       "      <td>7.030000</td>\n",
       "      <td>13</td>\n",
       "      <td>13</td>\n",
       "      <td>3.515000</td>\n",
       "    </tr>\n",
       "    <tr>\n",
       "      <th>4</th>\n",
       "      <td>15</td>\n",
       "      <td>15.0</td>\n",
       "      <td>15</td>\n",
       "      <td>39.65</td>\n",
       "      <td>39.650000</td>\n",
       "      <td>0</td>\n",
       "      <td>0</td>\n",
       "      <td>2.643333</td>\n",
       "    </tr>\n",
       "  </tbody>\n",
       "</table>\n",
       "</div>"
      ],
      "text/plain": [
       "   INVOLVED_STOCK  SOLD_QUANTITY  sold_quantity_fixed  SOLD_AMOUNT  sold_amount_fixed  REMAINING_STOCK_AFTER_END  remaining_stock_after_end_fixed  unit_price\n",
       "0               4            6.0                    4         4.72           3.146667                         -2                                0    0.786667\n",
       "1               5            0.0                    0         0.00           0.000000                          5                                5    0.000000\n",
       "2              15            3.0                    3        10.73          10.730000                         12                               12    3.576667\n",
       "3              15            2.0                    2         7.03           7.030000                         13                               13    3.515000\n",
       "4              15           15.0                   15        39.65          39.650000                          0                                0    2.643333"
      ]
     },
     "execution_count": 8,
     "metadata": {},
     "output_type": "execute_result"
    }
   ],
   "source": [
    "'''\n",
    "We will fill na for the columns that we can interpret, SOLD_AMOUNT and SOLD_QUANTITY, \n",
    "which we can assume that: if missing, then 0.\n",
    "'''\n",
    "df['SOLD_AMOUNT'].fillna(0,inplace=True)\n",
    "df['SOLD_QUANTITY'].fillna(0,inplace=True)\n",
    "\n",
    "\n",
    "# -- -- -- -- -- -- -- -- -- -- -- -- -- -- -- -- -- -- -- -- -- -- -- -- -- -- -- -- -- -- -- -- -- -- -- -- -- -- -- -- -- -- -- -- -- -- -- --\n",
    "'''\n",
    "Now, let's fix the data, considering that there are some records that show more sales than there is stock.\n",
    "We will create three new features:\n",
    "- 'sold_quantity_fixed' as a fixed version of 'SOLD_QUANTITY'\n",
    "- 'remaining_stock_after_end_fixed' as a fixed version of 'REMAINING_STOCK_AFTER_END'\n",
    "- 'sold_amount_fixed' as a fixed version of 'SOLD_AMOUNT'\n",
    "'''\n",
    "\n",
    "# - - - - - - - - - - - - - - - - - - - - - - - - - - - - - - - - - - - - - - - - - - - - - - - - - - - - - - - - - - - - - - - - \n",
    "# 'sold_quantity_fixed'\n",
    "'''\n",
    "We will start by fixing 'SOLD_QUANTITY'. If 'SOLD_QUANTITY' > 'INVOLVED_STOCK' then 'INVOLVED_STOCK' else 'SOLD_QUANTITY'.\n",
    "We shall start with creating a function to then apply it to our df and create the fixed column\n",
    "'''\n",
    "\n",
    "def sold_qty_fixer(stock,sales):\n",
    "    if sales > stock:\n",
    "        return stock\n",
    "    else:\n",
    "        return sales\n",
    "\n",
    "df['sold_quantity_fixed'] = (df.apply(lambda x: sold_qty_fixer(x.INVOLVED_STOCK, x.SOLD_QUANTITY), axis=1)).astype(int)\n",
    "\n",
    "# - - - - - - - - - - - - - - - - - - - - - - - - - - - - - - - - - - - - - - - - - - - - - - - - - - - - - - - - - - - - - - - - \n",
    "# 'remaining_stock_after_end_fixed'\n",
    "''' \n",
    "Now we can fix the 'REMAINING_STOCK_AFTER_END' column, by subtracting the new 'sold_quantity_fixed' from the 'INVOLVED_STOCK'\n",
    "'''\n",
    "\n",
    "df['remaining_stock_after_end_fixed'] = (df['INVOLVED_STOCK']-df['sold_quantity_fixed']).astype(int)\n",
    "\n",
    "# - - - - - - - - - - - - - - - - - - - - - - - - - - - - - - - - - - - - - - - - - - - - - - - - - - - - - - - - - - - - - - - - \n",
    "# 'sold_amount_fixed'\n",
    "'''\n",
    "Finally, we will fix the 'SOLD_AMOUNT' column by dividing it by the previous/wrong 'SOLD_QUANTITY' \n",
    "and multiplying this unit price by the new/fixed 'sold_quantity_fixed'\n",
    "(Here I am assuming that the SOLD_AMOUNT reflects the SOLD_QUANTITY times unit price, which I cannot validate with the given data)\n",
    "'''\n",
    "df['unit_price'] = (df['SOLD_AMOUNT']/df['SOLD_QUANTITY']).fillna(0)\n",
    "df['sold_amount_fixed'] = df['unit_price']*df['sold_quantity_fixed']\n",
    "df['sold_amount_fixed'].fillna(0, inplace=True)\n",
    "\n",
    "# - - - - - - - - - - - - - - - - - - - - - - - - - - - - - - - - - - - - - - - - - - - - - - - - - - - - - - - - - - - - - - - - \n",
    "\n",
    "# -- -- -- -- -- -- -- -- -- -- -- -- -- -- -- -- -- -- -- -- -- -- -- -- -- -- -- -- -- -- -- -- -- -- -- -- -- -- -- -- -- -- -- -- -- -- -- --\n",
    "'''\n",
    "For validation purposes, we will now print the data and make sure that the changes were correcly applied.\n",
    "'''\n",
    "\n",
    "cols_df = ['INVOLVED_STOCK', \n",
    "           'SOLD_QUANTITY', 'sold_quantity_fixed',\n",
    "           'SOLD_AMOUNT', 'sold_amount_fixed',\n",
    "           'REMAINING_STOCK_AFTER_END', 'remaining_stock_after_end_fixed',\n",
    "           'unit_price'\n",
    "           ]\n",
    "\n",
    "print_header('VALIDATION: Fixed variables')\n",
    "df[cols_df].head()"
   ]
  },
  {
   "cell_type": "markdown",
   "metadata": {},
   "source": [
    "Now that we have the sales and stock data making sense, we can create a feature that would represent 'success'.\n",
    "This will help us:\n",
    "- capture irrelevance in the data.\n",
    "- understande the relationship between each variable and our definition of 'success'.\n",
    "- find patterns and opportunitites in our analyses."
   ]
  },
  {
   "cell_type": "code",
   "execution_count": 9,
   "metadata": {},
   "outputs": [
    {
     "name": "stdout",
     "output_type": "stream",
     "text": [
      "\n",
      "----------------------------- Definition of 'SUCCESS' feature validation ----------------------------\n"
     ]
    },
    {
     "data": {
      "text/html": [
       "<div>\n",
       "<style scoped>\n",
       "    .dataframe tbody tr th:only-of-type {\n",
       "        vertical-align: middle;\n",
       "    }\n",
       "\n",
       "    .dataframe tbody tr th {\n",
       "        vertical-align: top;\n",
       "    }\n",
       "\n",
       "    .dataframe thead th {\n",
       "        text-align: right;\n",
       "    }\n",
       "</style>\n",
       "<table border=\"1\" class=\"dataframe\">\n",
       "  <thead>\n",
       "    <tr style=\"text-align: right;\">\n",
       "      <th></th>\n",
       "      <th>INVOLVED_STOCK</th>\n",
       "      <th>sold_quantity_fixed</th>\n",
       "      <th>sales_rate</th>\n",
       "      <th>sold_amount_fixed</th>\n",
       "      <th>remaining_stock_after_end_fixed</th>\n",
       "      <th>unit_price</th>\n",
       "      <th>sales_rate</th>\n",
       "    </tr>\n",
       "  </thead>\n",
       "  <tbody>\n",
       "    <tr>\n",
       "      <th>0</th>\n",
       "      <td>4</td>\n",
       "      <td>4</td>\n",
       "      <td>1.000000</td>\n",
       "      <td>3.146667</td>\n",
       "      <td>0</td>\n",
       "      <td>0.786667</td>\n",
       "      <td>1.000000</td>\n",
       "    </tr>\n",
       "    <tr>\n",
       "      <th>1</th>\n",
       "      <td>5</td>\n",
       "      <td>0</td>\n",
       "      <td>0.000000</td>\n",
       "      <td>0.000000</td>\n",
       "      <td>5</td>\n",
       "      <td>0.000000</td>\n",
       "      <td>0.000000</td>\n",
       "    </tr>\n",
       "    <tr>\n",
       "      <th>2</th>\n",
       "      <td>15</td>\n",
       "      <td>3</td>\n",
       "      <td>0.200000</td>\n",
       "      <td>10.730000</td>\n",
       "      <td>12</td>\n",
       "      <td>3.576667</td>\n",
       "      <td>0.200000</td>\n",
       "    </tr>\n",
       "    <tr>\n",
       "      <th>3</th>\n",
       "      <td>15</td>\n",
       "      <td>2</td>\n",
       "      <td>0.133333</td>\n",
       "      <td>7.030000</td>\n",
       "      <td>13</td>\n",
       "      <td>3.515000</td>\n",
       "      <td>0.133333</td>\n",
       "    </tr>\n",
       "    <tr>\n",
       "      <th>4</th>\n",
       "      <td>15</td>\n",
       "      <td>15</td>\n",
       "      <td>1.000000</td>\n",
       "      <td>39.650000</td>\n",
       "      <td>0</td>\n",
       "      <td>2.643333</td>\n",
       "      <td>1.000000</td>\n",
       "    </tr>\n",
       "  </tbody>\n",
       "</table>\n",
       "</div>"
      ],
      "text/plain": [
       "   INVOLVED_STOCK  sold_quantity_fixed  sales_rate  sold_amount_fixed  remaining_stock_after_end_fixed  unit_price  sales_rate\n",
       "0               4                    4    1.000000           3.146667                                0    0.786667    1.000000\n",
       "1               5                    0    0.000000           0.000000                                5    0.000000    0.000000\n",
       "2              15                    3    0.200000          10.730000                               12    3.576667    0.200000\n",
       "3              15                    2    0.133333           7.030000                               13    3.515000    0.133333\n",
       "4              15                   15    1.000000          39.650000                                0    2.643333    1.000000"
      ]
     },
     "execution_count": 9,
     "metadata": {},
     "output_type": "execute_result"
    }
   ],
   "source": [
    "# FEATURE ENGINEERING ('SUCCESS' feature)\n",
    "# - - - - - - - - - - - - - - - - - - - - - - - - - - - - - - - - - - - - - - - - - - - - - - - - - - - - - - - - - - - - - - - - \n",
    "# sales_rate: Percentage of the INVOLVED_STOCK that was sold (INVOLVED_STOCK/sold_quantity_fixed).\n",
    "'''\n",
    "Observing the data, it would be interesting to understand the relationship between our features (independent variables) and some\n",
    "rate of success (dependent variable).\n",
    "In this case we could create a new column containing the rate of SALES/STOCK. We will have a percentage of the INVOLVED_STOCK\n",
    "that was actually sold (SOLD_QUANTITY).\n",
    "Considering that we have cleaned the data, we can now execute this logic and create this feature of interest quite simply.\n",
    "'''\n",
    "\n",
    "df['sales_rate'] = df['sold_quantity_fixed']/df['INVOLVED_STOCK']\n",
    "\n",
    "cols_df = ['INVOLVED_STOCK', \n",
    "           'sold_quantity_fixed',\n",
    "           'sales_rate', # <------------\n",
    "           'sold_amount_fixed',\n",
    "           'remaining_stock_after_end_fixed',\n",
    "           'unit_price'\n",
    "           ]\n",
    "\n",
    "# - - - - - - - - - - - - - - - - - - - - - - - - - - - - - - - - - - - - - - - - - - - - - - - - - - - - - - - - - - - - - - - - \n",
    "'''\n",
    "Now, we are ready to understand the relationship between the different variables available and our definition of 'success' ('sales_rate').\n",
    "\n",
    "ALERT! We must keep in mind that the percentage of sales could be, and probably is, biased by the duration of the offer,\n",
    "that is, offers that stay active for longer have more chances of materializing into more sales than those that \n",
    "stay active for shorter periods of time.\n",
    "With that being said, we will start by observing the relationship between offer duration and sales_rate.\n",
    "'''\n",
    "\n",
    "print_header(\"Definition of 'SUCCESS' feature validation\")\n",
    "df[cols_df+['sales_rate']].head()"
   ]
  },
  {
   "cell_type": "markdown",
   "metadata": {},
   "source": [
    "### MISSING VALUES\n",
    "We have already filled the missing values for the `SOLD_QUANTITY` and `SOLD_AMOUNT`.\n",
    "\n",
    "With the creation of the `sales_rate` and the fixed `sold_quantity_fixed` features we can evaluate if the `ORIGIN` is relevant at all for our analyses."
   ]
  },
  {
   "cell_type": "code",
   "execution_count": 10,
   "metadata": {},
   "outputs": [
    {
     "name": "stdout",
     "output_type": "stream",
     "text": [
      "\n",
      "------------------------------------------- WHOLE DATASET ------------------------------------------\n",
      "       INVOLVED_STOCK    sales_rate  sold_quantity_fixed    unit_price\n",
      "count    48746.000000  48746.000000         48746.000000  48746.000000\n",
      "mean        35.007508      0.197131             5.254031      4.457664\n",
      "std        206.761058      0.305654            31.272233     16.486230\n",
      "min          1.000000      0.000000             0.000000      0.000000\n",
      "25%          5.000000      0.000000             0.000000      0.000000\n",
      "50%         10.000000      0.010000             1.000000      0.638150\n",
      "75%         15.000000      0.250000             3.000000      4.032083\n",
      "max       9000.000000      1.000000          1646.000000    639.070000\n",
      "\n",
      "----------------------------------------- ORIGIN='A' DATASET ----------------------------------------\n",
      "       INVOLVED_STOCK    sales_rate  sold_quantity_fixed    unit_price\n",
      "count    11316.000000  11316.000000         11316.000000  11316.000000\n",
      "mean       118.380877      0.130393            15.933192      8.076066\n",
      "std        418.375475      0.260098            63.458229     30.055760\n",
      "min          1.000000      0.000000             0.000000      0.000000\n",
      "25%          9.000000      0.000000             0.000000      0.000000\n",
      "50%         20.000000      0.000000             0.000000      0.000000\n",
      "75%         70.000000      0.109022             4.000000      4.076074\n",
      "max       9000.000000      1.000000          1646.000000    639.070000\n",
      "\n",
      "---------------------------------------- ORIGIN='NA' DATASET ---------------------------------------\n",
      "       INVOLVED_STOCK    sales_rate  sold_quantity_fixed    unit_price\n",
      "count    37430.000000  37430.000000         37430.000000  37430.000000\n",
      "mean         9.801710      0.217308             2.025461      3.363732\n",
      "std          4.795066      0.315380             3.368538      8.702061\n",
      "min          5.000000      0.000000             0.000000      0.000000\n",
      "25%          5.000000      0.000000             0.000000      0.000000\n",
      "50%         10.000000      0.066667             1.000000      0.938417\n",
      "75%         15.000000      0.333333             3.000000      4.028250\n",
      "max         15.000000      1.000000            15.000000    496.730000\n"
     ]
    }
   ],
   "source": [
    "# We will create a copy of the df with the columns we are interested in and fill na temporarily with an arbitrary value (string 'NA')\n",
    "df_origin_temp = df[['ORIGIN','INVOLVED_STOCK','sales_rate','sold_quantity_fixed', 'unit_price']].copy()\n",
    "df_origin_temp['ORIGIN'].fillna('NA', inplace=True)\n",
    "\n",
    "print_header('WHOLE DATASET')\n",
    "print(df_origin_temp.describe())\n",
    "\n",
    "print_header(\"ORIGIN='A' DATASET\")\n",
    "print(df_origin_temp[df_origin_temp['ORIGIN']=='A'].describe())\n",
    "\n",
    "print_header(\"ORIGIN='NA' DATASET\")\n",
    "print(df_origin_temp[df_origin_temp['ORIGIN']=='NA'].describe())"
   ]
  },
  {
   "cell_type": "code",
   "execution_count": 11,
   "metadata": {},
   "outputs": [
    {
     "name": "stdout",
     "output_type": "stream",
     "text": [
      "\n",
      "----------------------------------- SALES, STOCK, PRICE per ORIGIN ----------------------------------\n"
     ]
    },
    {
     "data": {
      "text/html": [
       "<div>\n",
       "<style scoped>\n",
       "    .dataframe tbody tr th:only-of-type {\n",
       "        vertical-align: middle;\n",
       "    }\n",
       "\n",
       "    .dataframe tbody tr th {\n",
       "        vertical-align: top;\n",
       "    }\n",
       "\n",
       "    .dataframe thead th {\n",
       "        text-align: right;\n",
       "    }\n",
       "</style>\n",
       "<table border=\"1\" class=\"dataframe\">\n",
       "  <thead>\n",
       "    <tr style=\"text-align: right;\">\n",
       "      <th></th>\n",
       "      <th>num_offers</th>\n",
       "      <th>avg_stock</th>\n",
       "      <th>min_stock</th>\n",
       "      <th>max_stock</th>\n",
       "      <th>avg_unit_price</th>\n",
       "      <th>min_unit_price</th>\n",
       "      <th>max_unit_price</th>\n",
       "      <th>avg_sales_rate</th>\n",
       "      <th>avg_sold_qty</th>\n",
       "    </tr>\n",
       "    <tr>\n",
       "      <th>ORIGIN</th>\n",
       "      <th></th>\n",
       "      <th></th>\n",
       "      <th></th>\n",
       "      <th></th>\n",
       "      <th></th>\n",
       "      <th></th>\n",
       "      <th></th>\n",
       "      <th></th>\n",
       "      <th></th>\n",
       "    </tr>\n",
       "  </thead>\n",
       "  <tbody>\n",
       "    <tr>\n",
       "      <th>A</th>\n",
       "      <td>11316</td>\n",
       "      <td>118.38</td>\n",
       "      <td>1</td>\n",
       "      <td>9000</td>\n",
       "      <td>8.08</td>\n",
       "      <td>0.0</td>\n",
       "      <td>639.07</td>\n",
       "      <td>0.13</td>\n",
       "      <td>15.93</td>\n",
       "    </tr>\n",
       "    <tr>\n",
       "      <th>NA</th>\n",
       "      <td>37430</td>\n",
       "      <td>9.80</td>\n",
       "      <td>5</td>\n",
       "      <td>15</td>\n",
       "      <td>3.36</td>\n",
       "      <td>0.0</td>\n",
       "      <td>496.73</td>\n",
       "      <td>0.22</td>\n",
       "      <td>2.03</td>\n",
       "    </tr>\n",
       "  </tbody>\n",
       "</table>\n",
       "</div>"
      ],
      "text/plain": [
       "        num_offers  avg_stock  min_stock  max_stock  avg_unit_price  min_unit_price  max_unit_price  avg_sales_rate  avg_sold_qty\n",
       "ORIGIN                                                                                                                           \n",
       "A            11316     118.38          1       9000            8.08             0.0          639.07            0.13         15.93\n",
       "NA           37430       9.80          5         15            3.36             0.0          496.73            0.22          2.03"
      ]
     },
     "execution_count": 11,
     "metadata": {},
     "output_type": "execute_result"
    }
   ],
   "source": [
    "print_header(\"SALES, STOCK, PRICE per ORIGIN\")\n",
    "df_origin_temp.groupby('ORIGIN').agg(num_offers=('ORIGIN','count'),\n",
    "                                     # -- -- -- -- -- -- -- -- -- -- -- -- -- -- -- -- -- -- \n",
    "                                     avg_stock=('INVOLVED_STOCK', 'mean'),\n",
    "                                     min_stock=('INVOLVED_STOCK', 'min'),\n",
    "                                     max_stock=('INVOLVED_STOCK', 'max'),\n",
    "                                     # -- -- -- -- -- -- -- -- -- -- -- -- -- -- -- -- -- -- \n",
    "                                     avg_unit_price=('unit_price', 'mean'),\n",
    "                                     min_unit_price=('unit_price', 'min'),\n",
    "                                     max_unit_price=('unit_price', 'max'),\n",
    "                                     # -- -- -- -- -- -- -- -- -- -- -- -- -- -- -- -- -- -- \n",
    "                                     avg_sales_rate=('sales_rate','mean'),\n",
    "                                     avg_sold_qty=('sold_quantity_fixed','mean')\n",
    "                                     # -- -- -- -- -- -- -- -- -- -- -- -- -- -- -- -- -- -- \n",
    "                                     ).round(2)"
   ]
  },
  {
   "cell_type": "code",
   "execution_count": 12,
   "metadata": {},
   "outputs": [
    {
     "name": "stdout",
     "output_type": "stream",
     "text": [
      "number of observations with INVOLVED_STOCK <= 100\t = \t 46,785\n",
      "number of observations with INVOLVED_STOCK > 100\t = \t 1,961\n"
     ]
    },
    {
     "data": {
      "text/html": [
       "<div>\n",
       "<style scoped>\n",
       "    .dataframe tbody tr th:only-of-type {\n",
       "        vertical-align: middle;\n",
       "    }\n",
       "\n",
       "    .dataframe tbody tr th {\n",
       "        vertical-align: top;\n",
       "    }\n",
       "\n",
       "    .dataframe thead th {\n",
       "        text-align: right;\n",
       "    }\n",
       "</style>\n",
       "<table border=\"1\" class=\"dataframe\">\n",
       "  <thead>\n",
       "    <tr style=\"text-align: right;\">\n",
       "      <th></th>\n",
       "      <th>INVOLVED_STOCK</th>\n",
       "      <th>sales_rate</th>\n",
       "      <th>sold_quantity_fixed</th>\n",
       "      <th>unit_price</th>\n",
       "    </tr>\n",
       "  </thead>\n",
       "  <tbody>\n",
       "    <tr>\n",
       "      <th>count</th>\n",
       "      <td>48746.000000</td>\n",
       "      <td>48746.000000</td>\n",
       "      <td>48746.000000</td>\n",
       "      <td>48746.000000</td>\n",
       "    </tr>\n",
       "    <tr>\n",
       "      <th>mean</th>\n",
       "      <td>35.007508</td>\n",
       "      <td>0.197131</td>\n",
       "      <td>5.254031</td>\n",
       "      <td>4.457664</td>\n",
       "    </tr>\n",
       "    <tr>\n",
       "      <th>std</th>\n",
       "      <td>206.761058</td>\n",
       "      <td>0.305654</td>\n",
       "      <td>31.272233</td>\n",
       "      <td>16.486230</td>\n",
       "    </tr>\n",
       "    <tr>\n",
       "      <th>min</th>\n",
       "      <td>1.000000</td>\n",
       "      <td>0.000000</td>\n",
       "      <td>0.000000</td>\n",
       "      <td>0.000000</td>\n",
       "    </tr>\n",
       "    <tr>\n",
       "      <th>25%</th>\n",
       "      <td>5.000000</td>\n",
       "      <td>0.000000</td>\n",
       "      <td>0.000000</td>\n",
       "      <td>0.000000</td>\n",
       "    </tr>\n",
       "    <tr>\n",
       "      <th>50%</th>\n",
       "      <td>10.000000</td>\n",
       "      <td>0.010000</td>\n",
       "      <td>1.000000</td>\n",
       "      <td>0.638150</td>\n",
       "    </tr>\n",
       "    <tr>\n",
       "      <th>75%</th>\n",
       "      <td>15.000000</td>\n",
       "      <td>0.250000</td>\n",
       "      <td>3.000000</td>\n",
       "      <td>4.032083</td>\n",
       "    </tr>\n",
       "    <tr>\n",
       "      <th>max</th>\n",
       "      <td>9000.000000</td>\n",
       "      <td>1.000000</td>\n",
       "      <td>1646.000000</td>\n",
       "      <td>639.070000</td>\n",
       "    </tr>\n",
       "  </tbody>\n",
       "</table>\n",
       "</div>"
      ],
      "text/plain": [
       "       INVOLVED_STOCK    sales_rate  sold_quantity_fixed    unit_price\n",
       "count    48746.000000  48746.000000         48746.000000  48746.000000\n",
       "mean        35.007508      0.197131             5.254031      4.457664\n",
       "std        206.761058      0.305654            31.272233     16.486230\n",
       "min          1.000000      0.000000             0.000000      0.000000\n",
       "25%          5.000000      0.000000             0.000000      0.000000\n",
       "50%         10.000000      0.010000             1.000000      0.638150\n",
       "75%         15.000000      0.250000             3.000000      4.032083\n",
       "max       9000.000000      1.000000          1646.000000    639.070000"
      ]
     },
     "execution_count": 12,
     "metadata": {},
     "output_type": "execute_result"
    },
    {
     "data": {
      "image/png": "[encoded data removed]",
      "text/plain": [
       "<Figure size 640x480 with 1 Axes>"
      ]
     },
     "metadata": {},
     "output_type": "display_data"
    }
   ],
   "source": [
    "threshold = 100\n",
    "var = 'INVOLVED_STOCK'\n",
    "\n",
    "\n",
    "print(f'number of observations with {var} <= {threshold}\\t = \\t {df_origin_temp[df_origin_temp[var]<=threshold][var].count():,}')\n",
    "\n",
    "print(f'number of observations with {var} > {threshold}\\t = \\t {df_origin_temp[df_origin_temp[var]>threshold][var].count():,}')\n",
    "\n",
    "\n",
    "df_origin_temp[df_origin_temp[var]<threshold][var].plot(kind='box')\n",
    "\n",
    "df_origin_temp.describe()"
   ]
  },
  {
   "cell_type": "code",
   "execution_count": null,
   "metadata": {},
   "outputs": [],
   "source": []
  },
  {
   "cell_type": "code",
   "execution_count": null,
   "metadata": {},
   "outputs": [],
   "source": [
    "threshold = np.inf\n",
    "var = 'INVOLVED_STOCK'\n",
    "\n",
    "df_origin_temp.head()\n",
    "\n",
    "df_origin_temp_pvt = df_origin_temp[df_origin_temp[var]<=threshold].pivot(values=var, columns='ORIGIN')\n",
    "\n",
    "df_origin_temp_pvt['FULL DF'] = df_origin_temp_pvt['A'].fillna(0)+df_origin_temp_pvt['NA'].fillna(0)\n",
    "df_origin_temp_pvt = df_origin_temp_pvt[['FULL DF', 'A', 'NA']].rename(columns={'A':'ORIGIN=A', 'NA':'ORIGIN=NA'})\n",
    "\n",
    "df_origin_temp_pvt.plot(kind='box')\n",
    "plt.title(f'{var} per ORIGIN boxplot distribution\\n({var}<={threshold})')\n",
    "# plt.xlabel('ORIGIN')\n",
    "plt.ylabel(var)\n",
    "plt.ylim([0,\n",
    "          round((int(df_origin_temp.describe().loc['75%',var])+int(df_origin_temp.describe().loc['std',var]*1)),-2)\n",
    "          #round((int(df_origin_temp.describe().loc['mean',var])+int(df_origin_temp.describe().loc['std',var]*3)),-2)\n",
    "          ])"
   ]
  },
  {
   "cell_type": "code",
   "execution_count": 13,
   "metadata": {},
   "outputs": [
    {
     "data": {
      "image/png": "[encoded data removed]",
      "text/plain": [
       "<Figure size 800x300 with 1 Axes>"
      ]
     },
     "metadata": {},
     "output_type": "display_data"
    },
    {
     "data": {
      "image/png": "[encoded data removed]",
      "text/plain": [
       "<Figure size 800x300 with 1 Axes>"
      ]
     },
     "metadata": {},
     "output_type": "display_data"
    },
    {
     "data": {
      "image/png": "[encoded data removed]",
      "text/plain": [
       "<Figure size 800x300 with 1 Axes>"
      ]
     },
     "metadata": {},
     "output_type": "display_data"
    },
    {
     "data": {
      "image/png": "[encoded data removed]",
      "text/plain": [
       "<Figure size 800x300 with 1 Axes>"
      ]
     },
     "metadata": {},
     "output_type": "display_data"
    }
   ],
   "source": [
    "\n",
    "def relative_boxplot_ORIGIN(var, threshold=np.inf):\n",
    "\n",
    "    df_origin_temp.head()\n",
    "\n",
    "    df_origin_temp_pvt = df_origin_temp[df_origin_temp[var]<=threshold].pivot(values=var, columns='ORIGIN')\n",
    "\n",
    "    df_origin_temp_pvt['FULL DF'] = df_origin_temp_pvt['A'].fillna(0)+df_origin_temp_pvt['NA'].fillna(0)\n",
    "    df_origin_temp_pvt = df_origin_temp_pvt[['FULL DF', 'A', 'NA']].rename(columns={'A':'ORIGIN=A', 'NA':'ORIGIN=NA'})\n",
    "\n",
    "    df_origin_temp_pvt.plot(kind='box', figsize=(8,3))\n",
    "    plt.title(f'{var} per ORIGIN boxplot distribution\\n({var}<={threshold})')\n",
    "    # plt.xlabel('ORIGIN')\n",
    "    plt.ylabel(var)\n",
    "    if int(df_origin_temp[var].max()) <= 1:\n",
    "        pass\n",
    "    elif (int(df_origin_temp.describe().loc['75%',var])+int(df_origin_temp.describe().loc['std',var]*1)) <= 99:\n",
    "        plt.ylim([0,\n",
    "                round((int(df_origin_temp.describe().loc['75%',var])+int(df_origin_temp.describe().loc['std',var]*2)),-1)\n",
    "                #round((int(df_origin_temp.describe().loc['mean',var])+int(df_origin_temp.describe().loc['std',var]*3)),-2)\n",
    "                ])\n",
    "    else:\n",
    "        plt.ylim([0,\n",
    "                round((int(df_origin_temp.describe().loc['75%',var])+int(df_origin_temp.describe().loc['std',var]*1)),-2)\n",
    "                #round((int(df_origin_temp.describe().loc['mean',var])+int(df_origin_temp.describe().loc['std',var]*3)),-2)\n",
    "                ])\n",
    "\n",
    "vars = df_origin_temp.columns[1:].tolist()\n",
    "# ['INVOLVED_STOCK', 'sales_rate', 'sold_quantity_fixed', 'unit_price']\n",
    "# print(vars)\n",
    "\n",
    "\n",
    "\n",
    "#relative_boxplot_ORIGIN(var='sold_quantity_fixed')\n",
    "#df_origin_temp[['sold_quantity_fixed']].describe()\n",
    "\n",
    "\n",
    "for var in vars: \n",
    "    relative_boxplot_ORIGIN(var=var)\n",
    "\n",
    "#for var in vars:\n",
    "#    df_origin_temp_pvt = df_origin_temp[df_origin_temp[var]<=threshold].pivot(values=var, columns='ORIGIN')\n",
    "#\n",
    "#    df_origin_temp_pvt['FULL DF'] = df_origin_temp_pvt['A'].fillna(0)+df_origin_temp_pvt['NA'].fillna(0)\n",
    "#    df_origin_temp_pvt = df_origin_temp_pvt[['FULL DF', 'A', 'NA']].rename(columns={'A':'ORIGIN=A', 'NA':'ORIGIN=NA'})\n",
    "#\n",
    "#    df_origin_temp_pvt.plot(kind='box')\n",
    "#    plt.title(f'{var} per ORIGIN boxplot distribution\\n({var}<={threshold})')\n",
    "#    # plt.xlabel('ORIGIN')\n",
    "#    plt.ylabel(var)"
   ]
  },
  {
   "cell_type": "markdown",
   "metadata": {},
   "source": [
    "### 'ORIGIN' COLUMN CONCLUSIONS\n",
    "\n",
    "abcde"
   ]
  },
  {
   "cell_type": "code",
   "execution_count": null,
   "metadata": {},
   "outputs": [],
   "source": []
  },
  {
   "cell_type": "markdown",
   "metadata": {},
   "source": [
    "### WELCOMING THE DATA: PRELIMINARY CONCLUSIONS\n",
    "\n",
    "abcdef"
   ]
  },
  {
   "cell_type": "code",
   "execution_count": null,
   "metadata": {},
   "outputs": [],
   "source": []
  },
  {
   "cell_type": "code",
   "execution_count": null,
   "metadata": {},
   "outputs": [],
   "source": []
  },
  {
   "cell_type": "markdown",
   "metadata": {},
   "source": [
    "# Feature Analysis"
   ]
  },
  {
   "cell_type": "markdown",
   "metadata": {},
   "source": [
    "## Datetime columns and their values"
   ]
  },
  {
   "cell_type": "markdown",
   "metadata": {},
   "source": [
    "### Datetime columns analysis\n",
    "\n",
    "We will understand now if there are any weird values in the datetime columns\n",
    "\n",
    "We will also understand how the data is distributed through time"
   ]
  },
  {
   "cell_type": "code",
   "execution_count": null,
   "metadata": {},
   "outputs": [],
   "source": [
    "print('OFFER_START_DATE')\n",
    "print(f\"- Oldest 'Offer Start Date': {min(df[\"OFFER_START_DTTM_dt\"].dt.date)}\")\n",
    "print(f\"- Most recent 'Offer Start Date': {max(df[\"OFFER_START_DTTM_dt\"].dt.date)}\")\n",
    "print('-'*100)\n",
    "print('OFFER_FINISH_DTTM')\n",
    "print(f\"- Oldest 'Offer End Date': {min(df[\"OFFER_FINISH_DTTM_dt\"].dt.date)}\")\n",
    "print(f\"- Most recent 'Offer End Date': {max(df[\"OFFER_FINISH_DTTM_dt\"].dt.date)}\")\n"
   ]
  },
  {
   "cell_type": "code",
   "execution_count": null,
   "metadata": {},
   "outputs": [],
   "source": [
    "'''Let's plot the number of offers per offer start date to see if there is any concentration in a specific date'''\n",
    "df_ts_temp = df[['OFFER_START_DATE_dt']].reset_index().groupby('OFFER_START_DATE_dt').agg(num_offers=('index','count')).copy()\n",
    "\n",
    "import datetime as dt\n",
    "\n",
    "plt.figure(figsize=(12,5))\n",
    "plt.plot(df_ts_temp, marker='.')\n",
    "\n",
    "plt.yticks(range(0,round(max(df_ts_temp['num_offers']),-2)+200,100))\n",
    "plt.ylabel('Number of Offers')\n",
    "plt.axhline(np.mean(df_ts_temp['num_offers']), ls='--', c='darkturquoise', label=f'average number of offers per day = {int(np.mean(df_ts_temp['num_offers']))}')\n",
    "\n",
    "plt.xticks([df_ts_temp.reset_index()['OFFER_START_DATE_dt'][i] for i in range(0,len(df_ts_temp),5)],rotation=60)\n",
    "plt.xlabel('Offer Start Date')\n",
    "plt.axvline(dt.date(2021,7,1), ls=':', c='gray')\n",
    "\n",
    "plt.legend()\n",
    "\n",
    "plt.show()\n",
    "\n",
    "#df_ts_temp."
   ]
  },
  {
   "cell_type": "markdown",
   "metadata": {},
   "source": [
    "We can visually confirm that all offers have started between the 2021-06-01 and 2021-07-31"
   ]
  },
  {
   "cell_type": "code",
   "execution_count": null,
   "metadata": {},
   "outputs": [],
   "source": [
    "df_ts = df.copy()\n",
    "\n",
    "df_ts['offer_duration_seconds'] = (df_ts['OFFER_FINISH_DTTM_dt']-df_ts['OFFER_START_DTTM_dt']).dt.total_seconds().astype(int)\n",
    "\n",
    "# Let's remove the records for which offer durition = 0, for they are irrelevant for our analysis\n",
    "print(f'lenght of the df BEFORE duration=0 removal: {len(df_ts)}')\n",
    "#df_ts = df_ts[df_ts['offer_duration_seconds']>0]\n",
    "print(f'lenght of the df AFTER duration=0 removal: {len(df_ts)}')\n",
    "\n",
    "df_ts.columns\n",
    "\n",
    "df_ts.isnull().sum()"
   ]
  },
  {
   "cell_type": "markdown",
   "metadata": {},
   "source": []
  },
  {
   "cell_type": "code",
   "execution_count": null,
   "metadata": {},
   "outputs": [],
   "source": []
  },
  {
   "cell_type": "code",
   "execution_count": null,
   "metadata": {},
   "outputs": [],
   "source": []
  },
  {
   "cell_type": "markdown",
   "metadata": {},
   "source": [
    "We start seeing sales for offer durations (in seconds) starting at around 300 seconds (5 minutes).\n",
    "\n",
    "This could indicate that any offer with a duration less than 300 seconds (5 minutes) could be disconsidered for it does not perform in sales."
   ]
  },
  {
   "cell_type": "markdown",
   "metadata": {},
   "source": [
    "### Feature Engineering (Date columns)\n",
    "\n",
    "Let's try to find out more about these offers 'oferta relâmpago\" and how long they last"
   ]
  },
  {
   "cell_type": "markdown",
   "metadata": {},
   "source": [
    "#### Offer Duration"
   ]
  },
  {
   "cell_type": "code",
   "execution_count": null,
   "metadata": {},
   "outputs": [],
   "source": [
    "df['offer_duration'] = (df['OFFER_FINISH_DTTM_dt']-df['OFFER_START_DTTM_dt'])\n",
    "df['offer_duration_seconds'] = (df['OFFER_FINISH_DTTM_dt']-df['OFFER_START_DTTM_dt']).dt.total_seconds().astype(int)\n",
    "df['offer_duration_minutes'] = (df['OFFER_FINISH_DTTM_dt']-df['OFFER_START_DTTM_dt']).dt.total_seconds().astype(int)//60\n",
    "df['offer_duration_hours'] = (df['OFFER_FINISH_DTTM_dt']-df['OFFER_START_DTTM_dt']).dt.total_seconds().astype(int)//60//60\n",
    "df['offer_duration_days'] = (df['OFFER_FINISH_DTTM_dt']-df['OFFER_START_DTTM_dt']).dt.total_seconds().astype(int)//60//60//24\n",
    "\n",
    "df[['OFFER_START_DTTM','OFFER_FINISH_DTTM', 'offer_duration', 'offer_duration_seconds', 'offer_duration_minutes', 'offer_duration_hours','offer_duration_days']]"
   ]
  },
  {
   "cell_type": "code",
   "execution_count": null,
   "metadata": {},
   "outputs": [],
   "source": [
    "def print_elapsed(elapsed):\n",
    "    if elapsed < 60:\n",
    "        magnitude = 'seconds'\n",
    "        print(elapsed, \n",
    "            magnitude)\n",
    "    elif elapsed <= 60**2:\n",
    "        magnitude = 'minutes'\n",
    "        print(elapsed//60, \n",
    "            magnitude if elapsed//60 != 1 else magnitude[:-1], ',', \n",
    "            elapsed%60, \n",
    "            'seconds' if elapsed%60 != 1 else 'second')\n",
    "    elif elapsed < 60**2*24:\n",
    "        magnitude = 'hours'\n",
    "        print(elapsed//(60**2),\n",
    "            magnitude if elapsed//(60**2) != 1 else magnitude[:-1], ',', \n",
    "            (elapsed%(60**2))//60, \n",
    "            'minutes,' if (elapsed%(60**2))//60 != 1 else 'minute,',\n",
    "            (elapsed%(60**2))%60, \n",
    "            'seconds' if (elapsed%(60**2))%60 != 1 else 'second')\n",
    "    elif elapsed < 60**2*24*7:\n",
    "        magnitude = 'days'\n",
    "        print(elapsed//(60**2*24), \n",
    "            magnitude if elapsed//(60**2*24) != 1 else magnitude[:-1], ',',\n",
    "            (elapsed%(60**2*24))//(60**2), \n",
    "            'hours,' if (elapsed%(60**2*24))//(60**2) != 1 else 'hour,',\n",
    "            ((elapsed%(60**2*24))%(60**2))//60, \n",
    "            'minutes,' if ((elapsed%(60**2*24))%(60**2))//60 != 1 else 'minute,',\n",
    "            ((elapsed%(60**2*24))%(60**2))%60, \n",
    "            'seconds' if ((elapsed%(60**2*24))%(60**2))%60 != 1 else 'second')\n",
    "    else: \n",
    "        magnitude = 'weeks'\n",
    "        print(elapsed//(60**2*24*7), \n",
    "            magnitude if elapsed//(60**2*24*7) != 1 else magnitude[:-1], ',',\n",
    "            (elapsed%(60**2*24*7))//(60**2*24), \n",
    "            'days,' if (elapsed%(60**2*24*7))//(60**2*24) != 1 else 'day,',\n",
    "            ((elapsed%(60**2*24*7))%(60**2*24))//(60**2), \n",
    "            'hours,' if ((elapsed%(60**2*24*7))%(60**2*24))//(60**2) != 1 else 'hour,',\n",
    "            (((elapsed%(60**2*24*7))%(60**2*24))%(60**2))//60, \n",
    "            'minutes,' if (((elapsed%(60**2*24*7))%(60**2*24))%(60**2))//60 != 1 else 'minute,',\n",
    "            ((((elapsed%(60**2*24*7))%(60**2*24))%(60**2))%60)%60, \n",
    "            'seconds' if ((((elapsed%(60**2*24*7))%(60**2*24))%(60**2))%60)%60 != 1 else 'second')\n",
    "\n"
   ]
  },
  {
   "cell_type": "code",
   "execution_count": null,
   "metadata": {},
   "outputs": [],
   "source": [
    "from scipy.stats import mode\n",
    "def new_mode(a):\n",
    "    return mode(a)[0]\n",
    "\n",
    "print('-'*100)\n",
    "for op in [min, max, np.mean, np.median, new_mode, np.var, np.std]:\n",
    "    print(f'{op.__name__.upper().replace('NEW_','')} offer duration:')\n",
    "    print(f'{int(op(df['offer_duration_seconds'])):,} seconds')\n",
    "    print_elapsed(op(df['offer_duration_seconds']))       \n",
    "    print('-'*100)"
   ]
  },
  {
   "cell_type": "code",
   "execution_count": null,
   "metadata": {},
   "outputs": [],
   "source": [
    "bins = list(range(-1,24))+[max(df['offer_duration_hours'])]\n",
    "\n",
    "df_duration = df.copy()\n",
    "df_duration['offer_duration_hours_bins'] = pd.cut(df_duration['offer_duration_hours'], bins=bins, right=True)\n",
    "#df_duration['offer_duration_hours_bin_num'] = pd.cut(df_duration['offer_duration_hours'], bins=bins, right=True, retbins=True)\n",
    "df_duration.reset_index(inplace=True)\n",
    "df_duration.rename(columns={'index':'offer_id'}, inplace=True)\n",
    "\n",
    "df_duration_grp = df_duration[['offer_id','offer_duration_hours_bins']].groupby('offer_duration_hours_bins').agg(num_offers=('offer_id','nunique')).reset_index()\n",
    "\n",
    "plt.figure(figsize=(12,5))\n",
    "sns.barplot(x='offer_duration_hours_bins', y='num_offers', data=df_duration_grp[['offer_duration_hours_bins','num_offers']])\n",
    "plt.xticks(rotation=90)\n",
    "plt.show()\n",
    "\n"
   ]
  },
  {
   "cell_type": "code",
   "execution_count": null,
   "metadata": {},
   "outputs": [],
   "source": [
    "df_duration_grp['pct_offers'] = df_duration_grp['num_offers']/len(df_duration)\n",
    "\n",
    "df_duration_grp.sort_values('pct_offers', ascending=False).head(5)"
   ]
  },
  {
   "cell_type": "code",
   "execution_count": null,
   "metadata": {},
   "outputs": [],
   "source": [
    "df_grp = df[['offer_duration_seconds', \n",
    "                   'sales_rate', \n",
    "                   'sold_quantity_fixed'\n",
    "                   ]].groupby('offer_duration_seconds'\n",
    "                             ).agg(avg_sales_rate=('sales_rate','mean'),\n",
    "                                   avg_sales_qty=('sold_quantity_fixed','mean')\n",
    "                                   )\n",
    "\n",
    "\n",
    "fig, ax1 = plt.subplots(figsize=(12,5))\n",
    "ax1.set_title('Sales Quantity & Sales/Stock Rate Per Offer Duration (in seconds)')\n",
    "ax1.bar(x=df_grp[['avg_sales_qty']].reset_index()['offer_duration_seconds'].iloc[:100], \n",
    "        height=df_grp[['avg_sales_qty']].reset_index()['avg_sales_qty'].iloc[:100],\n",
    "        width=8,\n",
    "        color='limegreen')\n",
    "ax1.set_xlabel('Offer Duration (in seconds)')\n",
    "ax1.set_ylabel('Average QUANTITY of Sales')\n",
    "ax1.yaxis.label.set_color('limegreen')\n",
    "ax1.tick_params(axis='y', colors='limegreen')\n",
    "ax1.set_yticks(range(0, int(df_grp['avg_sales_qty'].iloc[:100].max())+2,2))\n",
    "ax1.set_xticks(range(0, round(int(df_grp[['avg_sales_qty']].reset_index()['offer_duration_seconds'].iloc[:100].max()),-2)+100,50))\n",
    "#ax1.axvline(300, c='gray', ls=':', label='We start seeing sales for offer durations (in seconds) \\n starting at around 300 seconds (5 minutes)')\n",
    "ax1.set_xlim(xmin=0)\n",
    "\n",
    "ax2 = ax1.twinx()\n",
    "\n",
    "ax2.plot(df_grp['avg_sales_rate'].iloc[:100], '--', marker='.', c='#1f77b4')\n",
    "ax2.set_ylabel('Average Sales RATE (SALES/STOCK)')\n",
    "ax2.yaxis.label.set_color('#1f77b4')\n",
    "ax2.tick_params(axis='y', colors='#1f77b4')\n",
    "\n",
    "#fig.legend(loc='best', fontsize='small')\n"
   ]
  },
  {
   "cell_type": "markdown",
   "metadata": {},
   "source": [
    "- We can see that there is a big concentration in the interval (5,6], meaning that most offers (62.4%) stayed active for more than 5 hours and up to 6 hours.\n",
    "- The second biggest concentration of offers per duration is in the interval (7,8], that is, 15.8% of all offers stayed active for more than 7 hours and up to 8 hours."
   ]
  },
  {
   "cell_type": "markdown",
   "metadata": {},
   "source": [
    "#### Data Validation\n",
    "\n",
    "Now we will validate some information to make sure the data is logically sound"
   ]
  },
  {
   "cell_type": "code",
   "execution_count": null,
   "metadata": {},
   "outputs": [],
   "source": [
    "# 0 seconds duration validation\n",
    "df_no_duration_offers = df[df['offer_duration_seconds']==0]\n",
    "\n",
    "''' Offers that had no duration at all should have no SOLD_AMOUNT'''\n",
    "print(f'{df_no_duration_offers.SOLD_AMOUNT.sum()} sold amount for offers with 0 sec. duration')\n",
    "print(f'{df_no_duration_offers.SOLD_QUANTITY.sum()} sold quantity for offers with 0 sec. duration')\n",
    "\n",
    "\n",
    "\n",
    "df_no_duration_offers.head()"
   ]
  },
  {
   "cell_type": "code",
   "execution_count": null,
   "metadata": {},
   "outputs": [],
   "source": [
    "df.iloc[:,:-8].head()"
   ]
  },
  {
   "cell_type": "markdown",
   "metadata": {},
   "source": [
    "## Numeric Columns and their values"
   ]
  },
  {
   "cell_type": "code",
   "execution_count": null,
   "metadata": {},
   "outputs": [],
   "source": [
    "df_orig.describe()"
   ]
  },
  {
   "cell_type": "code",
   "execution_count": null,
   "metadata": {},
   "outputs": [],
   "source": []
  },
  {
   "cell_type": "code",
   "execution_count": null,
   "metadata": {},
   "outputs": [],
   "source": []
  },
  {
   "cell_type": "code",
   "execution_count": null,
   "metadata": {},
   "outputs": [],
   "source": []
  },
  {
   "cell_type": "markdown",
   "metadata": {},
   "source": [
    "## Categorical Variables and their values"
   ]
  },
  {
   "cell_type": "code",
   "execution_count": null,
   "metadata": {},
   "outputs": [],
   "source": [
    "df_orig.dtypes"
   ]
  },
  {
   "cell_type": "code",
   "execution_count": null,
   "metadata": {},
   "outputs": [],
   "source": [
    "categ_vars = ['ORIGIN', 'SHIPPING_PAYMENT_TYPE', 'DOM_DOMAIN_AGG1', 'VERTICAL', 'DOMAIN_ID']\n",
    "\n",
    "for categ in categ_vars:\n",
    "    print(categ.upper())\n",
    "    for val in df_orig[categ].unique():\n",
    "        print(f'- {val}')\n",
    "    print('-'*50)\n"
   ]
  },
  {
   "cell_type": "code",
   "execution_count": null,
   "metadata": {},
   "outputs": [],
   "source": []
  },
  {
   "cell_type": "code",
   "execution_count": null,
   "metadata": {},
   "outputs": [],
   "source": []
  },
  {
   "cell_type": "code",
   "execution_count": null,
   "metadata": {},
   "outputs": [],
   "source": []
  }
 ],
 "metadata": {
  "kernelspec": {
   "display_name": "meli_py312",
   "language": "python",
   "name": "python3"
  },
  "language_info": {
   "codemirror_mode": {
    "name": "ipython",
    "version": 3
   },
   "file_extension": ".py",
   "mimetype": "text/x-python",
   "name": "python",
   "nbconvert_exporter": "python",
   "pygments_lexer": "ipython3",
   "version": "3.12.0"
  },
  "orig_nbformat": 4
 },
 "nbformat": 4,
 "nbformat_minor": 2
}
